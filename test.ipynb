{
 "cells": [
  {
   "cell_type": "code",
   "execution_count": 1,
   "id": "adfe92a7",
   "metadata": {},
   "outputs": [],
   "source": [
    "import yfinance as yf\n",
    "import pandas as pd\n",
    "import numpy as np\n",
    "import ta\n",
    "from datetime import datetime, timedelta\n",
    "import argparse\n",
    "import re"
   ]
  },
  {
   "cell_type": "code",
   "execution_count": 6,
   "id": "125b8f19",
   "metadata": {},
   "outputs": [],
   "source": [
    "def get_sector_benchmarks(sector: str):\n",
    "    \"\"\"\n",
    "    Returns typical valuation & financial benchmarks for a given sector.\n",
    "    Values are rough averages and should be refined with real market data.\n",
    "    \"\"\"\n",
    "    sector_defaults = {\n",
    "        \"Technology\": {\n",
    "            \"P/E\": 25,\n",
    "            \"OperatingMargin\": 0.15,\n",
    "            \"RevenueGrowth\": 0.05,   # high growth expectation\n",
    "            \"DebtEquity\": 0.8,\n",
    "            \"PayoutRatio\": 0.40,     # tech often reinvests profits\n",
    "        },\n",
    "        \"Utilities\": {\n",
    "            \"P/E\": 15,\n",
    "            \"OperatingMargin\": 0.10,\n",
    "            \"RevenueGrowth\": 0.02,   # slow but stable growth\n",
    "            \"DebtEquity\": 1.5,       # higher leverage acceptable\n",
    "            \"PayoutRatio\": 0.70,     # dividends are main appeal\n",
    "        },\n",
    "        \"Financial Services\": {\n",
    "            \"P/E\": 12,\n",
    "            \"OperatingMargin\": 0.20,\n",
    "            \"RevenueGrowth\": 0.03,\n",
    "            \"DebtEquity\": 2.0,       # banks run high leverage\n",
    "            \"PayoutRatio\": 0.50,\n",
    "        },\n",
    "        \"Healthcare\": {\n",
    "            \"P/E\": 18,\n",
    "            \"OperatingMargin\": 0.12,\n",
    "            \"RevenueGrowth\": 0.04,\n",
    "            \"DebtEquity\": 1.0,\n",
    "            \"PayoutRatio\": 0.50,\n",
    "        },\n",
    "        \"Consumer Defensive\": {\n",
    "            \"P/E\": 18,\n",
    "            \"OperatingMargin\": 0.08,\n",
    "            \"RevenueGrowth\": 0.02,\n",
    "            \"DebtEquity\": 1.2,\n",
    "            \"PayoutRatio\": 0.60,\n",
    "        },\n",
    "        \"Consumer Cyclical\": {\n",
    "            \"P/E\": 20,\n",
    "            \"OperatingMargin\": 0.10,\n",
    "            \"RevenueGrowth\": 0.03,\n",
    "            \"DebtEquity\": 1.0,\n",
    "            \"PayoutRatio\": 0.50,\n",
    "        },\n",
    "        \"Energy\": {\n",
    "            \"P/E\": 14,\n",
    "            \"OperatingMargin\": 0.12,\n",
    "            \"RevenueGrowth\": 0.03,\n",
    "            \"DebtEquity\": 1.2,\n",
    "            \"PayoutRatio\": 0.50,\n",
    "        },\n",
    "        \"Industrials\": {\n",
    "            \"P/E\": 17,\n",
    "            \"OperatingMargin\": 0.08,\n",
    "            \"RevenueGrowth\": 0.03,\n",
    "            \"DebtEquity\": 1.0,\n",
    "            \"PayoutRatio\": 0.45,\n",
    "        }\n",
    "    }\n",
    "\n",
    "    # default fallback\n",
    "    return sector_defaults.get(sector, {\n",
    "        \"P/E\": 20,\n",
    "        \"OperatingMargin\": 0.10,\n",
    "        \"RevenueGrowth\": 0.00,\n",
    "        \"DebtEquity\": 1.0,\n",
    "        \"PayoutRatio\": 0.70\n",
    "    })"
   ]
  },
  {
   "cell_type": "code",
   "execution_count": 7,
   "id": "25e092f8",
   "metadata": {},
   "outputs": [],
   "source": [
    "ticker = 'AAPL'\n",
    "\n",
    "stock = yf.Ticker(ticker)\n",
    "info = stock.info"
   ]
  },
  {
   "cell_type": "code",
   "execution_count": 8,
   "id": "4d315daa",
   "metadata": {},
   "outputs": [
    {
     "data": {
      "text/plain": [
       "{'P/E': 25,\n",
       " 'OperatingMargin': 0.15,\n",
       " 'RevenueGrowth': 0.05,\n",
       " 'DebtEquity': 0.8,\n",
       " 'PayoutRatio': 0.4}"
      ]
     },
     "execution_count": 8,
     "metadata": {},
     "output_type": "execute_result"
    }
   ],
   "source": [
    "sector_benchmarks = get_sector_benchmarks(info['sector'])\n",
    "\n",
    "sector_benchmarks "
   ]
  },
  {
   "cell_type": "code",
   "execution_count": 9,
   "id": "f27a280e",
   "metadata": {},
   "outputs": [],
   "source": [
    "score = 0\n",
    "fundamentals = {}\n",
    "decision = \"NOT BUY\"\n",
    "reasons = []\n",
    "\n",
    "'''Valuation'''\n",
    "valuation_score = 0\n",
    "# --- PEG ratio ---\n",
    "## Used to assess growth relative to P/E.\n",
    "peg = info.get(\"trailingPegRatio\")\n",
    "fundamentals[\"PEG\"] = peg\n",
    "if peg is not None:\n",
    "    if peg < 1:\n",
    "        reasons.append(f\"PEG ({peg:.2f}) < 1 (undervalued)\")\n",
    "        valuation_score += 1\n",
    "    else:\n",
    "        reasons.append(f\"PEG ({peg:.2f}) >= 1 (fair/overvalued)\")\n",
    "        valuation_score -= 1\n",
    "else:\n",
    "    reasons.append(\"PEG data not available\")\n",
    "\n",
    "# --- P/E ratio ---\n",
    "## Used to assess valuation relative to earnings.\n",
    "industry_pe = sector_benchmarks[\"P/E\"]\n",
    "pe = info.get(\"trailingPE\")\n",
    "fundamentals[\"P/E\"] = pe\n",
    "if pe is not None:\n",
    "    if pe < industry_pe:\n",
    "        reasons.append(f\"P/E ({pe:.2f}) < {industry_pe} (undervalued)\")\n",
    "        valuation_score += 1\n",
    "    else:\n",
    "        reasons.append(f\"P/E ({pe:.2f}) >= {industry_pe} (fair/overvalued)\")\n",
    "        valuation_score -= 1\n",
    "else:\n",
    "    reasons.append(\"P/E data not available\")\n",
    "\n",
    "# --- P/B ratio ---\n",
    "## Used only when assets drive value. Tech companies with high intangibles may not use P/B.\n",
    "if stock.info['sector'] != 'Technology':\n",
    "    pb = info.get(\"priceToBook\")\n",
    "    fundamentals[\"P/B\"] = pb\n",
    "    if pb is not None:\n",
    "        if pb < 1:\n",
    "            reasons.append(f\"P/B ({pb:.2f}) < 1 (undervalued)\")\n",
    "            valuation_score += 1\n",
    "        else:\n",
    "            reasons.append(f\"P/B ({pb:.2f}) >= 1 (fair/overvalued)\")\n",
    "            valuation_score -= 1\n",
    "    else:\n",
    "        pb = None\n",
    "        fundamentals[\"P/B\"] = None\n",
    "        reasons.append(\"P/B data not available\")\n",
    "else:\n",
    "    pb = None\n",
    "    fundamentals[\"P/B\"] = None\n",
    "    reasons.append(\"P/B not applicable for tech sector\")\n",
    "\n",
    "# --- Free Cash Flow ---\n",
    "## Free cash flow is the cash a company generates after accounting for capital expenditures.\n",
    "fcf = info.get(\"freeCashflow\")\n",
    "market_cap = info.get(\"marketCap\") \n",
    "fundamentals[\"FreeCashFlow\"] = fcf\n",
    "fundamentals[\"MarketCap\"] = market_cap\n",
    "\n",
    "if fcf is not None and market_cap is not None and market_cap != 0:\n",
    "    fcf_yield = fcf / market_cap  # decimal form\n",
    "    fcf_yield_pct = fcf_yield * 100\n",
    "    fundamentals[\"FCF_Yield\"] = fcf_yield\n",
    "    if fcf_yield_pct > 5:\n",
    "        reasons.append(f\"FCF Yield ({fcf_yield_pct:.2f}%) > 5 (positive)\")\n",
    "        valuation_score += 1\n",
    "    elif fcf_yield_pct > 0:\n",
    "        reasons.append(f\"FCF Yield ({fcf_yield_pct:.2f}%) > 0 (positive)\")\n",
    "        valuation_score += 0\n",
    "    else:\n",
    "        reasons.append(f\"FCF Yield ({fcf_yield_pct:.2f}%) < 0 (negative)\")\n",
    "        valuation_score -= 1\n",
    "else:\n",
    "    fcf_yield = None\n",
    "    fundamentals[\"FCFYield\"] = None\n",
    "    reasons.append(\"FCF Yield data not available\")"
   ]
  },
  {
   "cell_type": "code",
   "execution_count": 10,
   "id": "93d8cf9e",
   "metadata": {},
   "outputs": [],
   "source": [
    "'''Risk & Financial Health'''\n",
    "risk_score = 0\n",
    "# --- Debt/Equity ---\n",
    "## Used to assess financial risk.\n",
    "industry_debt_equity = sector_benchmarks[\"DebtEquity\"]\n",
    "de = info.get(\"debtToEquity\") / 100\n",
    "fundamentals[\"D/E\"] = de\n",
    "if de is not None:\n",
    "    if de < 1:\n",
    "        reasons.append(f\"D/E ({de:.2f}) < {industry_debt_equity} (low financial risk)\")\n",
    "        risk_score += 1\n",
    "    else:\n",
    "        reasons.append(f\"D/E ({de:.2f}) >= {industry_debt_equity} (high financial risk)\")\n",
    "        risk_score -= 1\n",
    "else:\n",
    "    de = None\n",
    "    fundamentals[\"D/E\"] = None\n",
    "    reasons.append(\"Debt/Equity data not available\")\n",
    "\n",
    "# --- Operating Margin ---\n",
    "## Operating margin measures the percentage of revenue left after covering operating expenses.\n",
    "industry_op_margin = sector_benchmarks[\"OperatingMargin\"]\n",
    "op_margin = info.get(\"operatingMargins\")\n",
    "fundamentals[\"OperatingMargin\"] = op_margin\n",
    "if op_margin is not None:\n",
    "    if op_margin > industry_op_margin:\n",
    "        reasons.append(f\"Operating margin ({op_margin:.2f}) > {industry_op_margin} (healthy)\")\n",
    "        risk_score += 1\n",
    "    else:\n",
    "        reasons.append(f\"Operating margin ({op_margin:.2f}) <= {industry_op_margin} (unhealthy)\")\n",
    "        risk_score -= 1\n",
    "else:\n",
    "    op_margin = None\n",
    "    fundamentals[\"OperatingMargin\"] = None\n",
    "    reasons.append(\"Operating Margin data not available\")\n",
    "\n",
    "# --- Revenue Growth ---\n",
    "## Revenue growth indicates the company's ability to increase sales over time.\n",
    "growth = info.get(\"revenueGrowth\")\n",
    "industry_revenue_growth = sector_benchmarks[\"RevenueGrowth\"]\n",
    "fundamentals[\"RevenueGrowth\"] = growth\n",
    "if growth is not None:\n",
    "    if growth > 0:\n",
    "        reasons.append(f\"Growth ({growth:.2f}) > {industry_revenue_growth} (growing revenue)\")\n",
    "        risk_score += 1\n",
    "    else:\n",
    "        reasons.append(f\"Growth ({growth:.2f}) <= {industry_revenue_growth} (declining revenue)\")\n",
    "        risk_score -= 1\n",
    "else:\n",
    "    growth = None\n",
    "    fundamentals[\"RevenueGrowth\"] = None\n",
    "    reasons.append(\"Revenue Growth data not available\")\n",
    "\n",
    "# --- Dividend sustainability ---\n",
    "## Dividend payout ratio indicates how much of earnings are paid out as dividends.\n",
    "payout = info.get(\"payoutRatio\")\n",
    "industry_payout_ratio = sector_benchmarks[\"PayoutRatio\"]\n",
    "fundamentals[\"PayoutRatio\"] = payout\n",
    "if payout is not None:\n",
    "    if payout < 0.7:\n",
    "        reasons.append(f\"Dividend payout ({payout:.2f}) < {industry_payout_ratio} (sustainable)\")\n",
    "        risk_score += 1\n",
    "    else:\n",
    "        reasons.append(f\"Dividend payout ({payout:.2f}) >= {industry_payout_ratio} (unsustainable)\")\n",
    "        risk_score -= 1\n",
    "else:\n",
    "    payout = None\n",
    "    fundamentals[\"PayoutRatio\"] = None\n",
    "    reasons.append(\"Payout Ratio data not available\")"
   ]
  },
  {
   "cell_type": "code",
   "execution_count": 11,
   "id": "b40e4a19",
   "metadata": {},
   "outputs": [],
   "source": [
    "'''Analyst Recommendations'''\n",
    "analyst_score = 0\n",
    "# --- Analyst recommendations ---\n",
    "## Analyst recommendations indicate market sentiment.\n",
    "recommendations = stock.recommendations\n",
    "\n",
    "# Recommendation weights\n",
    "rec_weights = {\"strongBuy\": 2, \"buy\": 1, \"hold\": 0, \"sell\": -1, \"strongSell\": -2}\n",
    "\n",
    "# Horizontal score for each period\n",
    "recommendations[\"score\"] = (\n",
    "    recommendations[\"strongBuy\"]  * rec_weights[\"strongBuy\"] +\n",
    "    recommendations[\"buy\"]        * rec_weights[\"buy\"] +\n",
    "    recommendations[\"hold\"]       * rec_weights[\"hold\"] +\n",
    "    recommendations[\"sell\"]       * rec_weights[\"sell\"] +\n",
    "    recommendations[\"strongSell\"] * rec_weights[\"strongSell\"]\n",
    ")\n",
    "\n",
    "# --- Auto-generate vertical weights ---\n",
    "# Extract months as integers (e.g., \"0m\" → 0, \"-3m\" → 3)\n",
    "recommendations[\"months_ago\"] = recommendations[\"period\"].apply(lambda x: int(re.sub(\"[^0-9]\", \"\", x)))\n",
    "\n",
    "# Exponential decay: weight = decay^months_ago\n",
    "decay = 0.75  # tune this: closer to 1 = slower decay, smaller = faster decay\n",
    "recommendations[\"period_weight\"] = np.power(decay, recommendations[\"months_ago\"])\n",
    "\n",
    "# Weighted score per period\n",
    "recommendations[\"weighted_score\"] = recommendations[\"score\"] * recommendations[\"period_weight\"]\n",
    "\n",
    "# Overall weighted score\n",
    "recommendations_score = recommendations[\"weighted_score\"].sum() / recommendations[\"period_weight\"].sum()\n",
    "\n",
    "if recommendations_score > 0:\n",
    "    reasons.append(f\"Analyst recommendations score: {recommendations_score:.2f} (positive sentiment)\")\n",
    "    analyst_score += 1\n",
    "else:\n",
    "    reasons.append(f\"Analyst recommendations score: {recommendations_score:.2f} (negative sentiment)\")\n",
    "    analyst_score -= 1"
   ]
  },
  {
   "cell_type": "code",
   "execution_count": 12,
   "id": "1a18c09f",
   "metadata": {},
   "outputs": [],
   "source": [
    "valuation_score = 1 if valuation_score > 0 else 0\n",
    "risk_score = 1 if risk_score > 0 else 0\n",
    "analyst_score = 1 if analyst_score > 0 else 0\n",
    "\n",
    "score = valuation_score + risk_score + analyst_score\n",
    "\n",
    "if all([valuation_score, risk_score, analyst_score]):\n",
    "    decision = \"BUY\"\n",
    "else:\n",
    "    decision = \"SELL\""
   ]
  },
  {
   "cell_type": "code",
   "execution_count": 13,
   "id": "4eb3b2ec",
   "metadata": {},
   "outputs": [
    {
     "data": {
      "text/plain": [
       "'SELL'"
      ]
     },
     "execution_count": 13,
     "metadata": {},
     "output_type": "execute_result"
    }
   ],
   "source": [
    "decision"
   ]
  },
  {
   "cell_type": "code",
   "execution_count": 14,
   "id": "c57c4750",
   "metadata": {},
   "outputs": [
    {
     "name": "stdout",
     "output_type": "stream",
     "text": [
      "0 1 1 2\n"
     ]
    }
   ],
   "source": [
    "print(valuation_score, risk_score, analyst_score, score)"
   ]
  },
  {
   "cell_type": "code",
   "execution_count": 15,
   "id": "a8680877",
   "metadata": {},
   "outputs": [
    {
     "data": {
      "text/plain": [
       "{'PEG': 2.0301,\n",
       " 'P/E': 34.127464,\n",
       " 'P/B': None,\n",
       " 'FreeCashFlow': 94873747456,\n",
       " 'MarketCap': 3337605873664,\n",
       " 'FCF_Yield': 0.028425689265655647,\n",
       " 'D/E': 1.54486,\n",
       " 'OperatingMargin': 0.29990998,\n",
       " 'RevenueGrowth': 0.096,\n",
       " 'PayoutRatio': 0.1533}"
      ]
     },
     "execution_count": 15,
     "metadata": {},
     "output_type": "execute_result"
    }
   ],
   "source": [
    "fundamentals"
   ]
  },
  {
   "cell_type": "code",
   "execution_count": 16,
   "id": "b8324c23",
   "metadata": {},
   "outputs": [
    {
     "data": {
      "text/plain": [
       "['PEG (2.03) >= 1 (fair/overvalued)',\n",
       " 'P/E (34.13) >= 25 (fair/overvalued)',\n",
       " 'P/B not applicable for tech sector',\n",
       " 'FCF Yield (2.84%) > 0 (positive)',\n",
       " 'D/E (1.54) >= 0.8 (high financial risk)',\n",
       " 'Operating margin (0.30) > 0.15 (healthy)',\n",
       " 'Growth (0.10) > 0.05 (growing revenue)',\n",
       " 'Dividend payout (0.15) < 0.4 (sustainable)',\n",
       " 'Analyst recommendations score: 29.21 (positive sentiment)']"
      ]
     },
     "execution_count": 16,
     "metadata": {},
     "output_type": "execute_result"
    }
   ],
   "source": [
    "reasons"
   ]
  },
  {
   "cell_type": "code",
   "execution_count": null,
   "id": "46069eb7",
   "metadata": {},
   "outputs": [],
   "source": []
  }
 ],
 "metadata": {
  "kernelspec": {
   "display_name": "Python 3",
   "language": "python",
   "name": "python3"
  },
  "language_info": {
   "codemirror_mode": {
    "name": "ipython",
    "version": 3
   },
   "file_extension": ".py",
   "mimetype": "text/x-python",
   "name": "python",
   "nbconvert_exporter": "python",
   "pygments_lexer": "ipython3",
   "version": "3.10.11"
  }
 },
 "nbformat": 4,
 "nbformat_minor": 5
}
